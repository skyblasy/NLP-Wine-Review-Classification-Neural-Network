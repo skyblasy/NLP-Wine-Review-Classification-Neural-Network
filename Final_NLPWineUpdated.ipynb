{
  "nbformat": 4,
  "nbformat_minor": 0,
  "metadata": {
    "colab": {
      "name": "Final_NLPWineUpdated.ipynb",
      "provenance": [],
      "collapsed_sections": []
    },
    "kernelspec": {
      "name": "python3",
      "display_name": "Python 3"
    },
    "language_info": {
      "name": "python"
    },
    "accelerator": "GPU"
  },
  "cells": [
    {
      "cell_type": "code",
      "metadata": {
        "colab": {
          "base_uri": "https://localhost:8080/"
        },
        "id": "LHCO80Ecblgw",
        "outputId": "8deed4b5-28ec-4ea3-c7ba-44b7df23c47c"
      },
      "source": [
        "import tensorflow as tf\n",
        "print(tf.__version__)"
      ],
      "execution_count": 21,
      "outputs": [
        {
          "output_type": "stream",
          "name": "stdout",
          "text": [
            "2.7.0\n"
          ]
        }
      ]
    },
    {
      "cell_type": "code",
      "metadata": {
        "colab": {
          "base_uri": "https://localhost:8080/"
        },
        "id": "FQDwBpRvd41w",
        "outputId": "603836cc-46bf-4dbe-85d9-b68fc69a3e7d"
      },
      "source": [
        "from google.colab import drive\n",
        "drive.mount('/content/drive')"
      ],
      "execution_count": 22,
      "outputs": [
        {
          "output_type": "stream",
          "name": "stdout",
          "text": [
            "Drive already mounted at /content/drive; to attempt to forcibly remount, call drive.mount(\"/content/drive\", force_remount=True).\n"
          ]
        }
      ]
    },
    {
      "cell_type": "code",
      "metadata": {
        "id": "RNLbr1MbBmHc"
      },
      "source": [
        "import numpy as np\n",
        "import pandas as pd\n",
        "import matplotlib.pyplot as plt\n",
        "import seaborn as sns\n",
        "from sklearn.model_selection import train_test_split\n",
        "from sklearn.preprocessing import MinMaxScaler, StandardScaler\n",
        "\n",
        "from tensorflow.keras.preprocessing.text import Tokenizer\n",
        "from tensorflow.keras.preprocessing.sequence import pad_sequences\n",
        "from tensorflow.keras.layers import Dense, Input, GlobalAveragePooling1D, LSTM, Bidirectional\n",
        "from tensorflow.keras.layers import Conv1D, MaxPooling1D, Embedding, Dropout\n",
        "from tensorflow.keras.models import Model\n",
        "from tensorflow.keras.metrics import Precision\n",
        "from tensorflow.keras.optimizers import RMSprop\n",
        "from tensorflow.keras.callbacks import LearningRateScheduler\n",
        "\n",
        "precision = Precision()\n",
        "SSscaler = StandardScaler()\n",
        "MMscaler = MinMaxScaler()"
      ],
      "execution_count": 23,
      "outputs": []
    },
    {
      "cell_type": "code",
      "metadata": {
        "id": "ElhV7pi0-VIK"
      },
      "source": [
        "# Trying to develop further feature engineering\n",
        "def pre_processing(df):\n",
        "\n",
        "    #getting the columns of interest and dropping nulls\n",
        "    df = df[['description','price','points','country']].dropna()\n",
        "    df = df.reset_index(drop=True)\n",
        "\n",
        "    # number of words\n",
        "    df['num_words'] = df.description.apply(len)\n",
        "\n",
        "    # creating the dummie variables from  the country column\n",
        "    dummies = pd.get_dummies(df.country, drop_first =True)\n",
        "    df = pd.concat([df, dummies], axis=1)\n",
        "\n",
        "    # Creating a new y target that is a diochotomous variable\n",
        "    df['y'] = pd.cut(df.points, bins=[0,91.1,100], labels=False).astype(int)\n",
        "\n",
        "    # dropping the points variable now that we have the y variable. \n",
        "    df.drop(['points', 'country'], axis = 1, inplace=True)\n",
        "\n",
        "    # string representation of the ingredient list\n",
        "    df['description'] = df.description.astype('str')\n",
        "\n",
        "    #changing the data type\n",
        "    df['price'] = df['price'].astype(float)\n",
        "    df['num_words'] = df['num_words'].astype(float)\n",
        "\n",
        "    #scaling price and number of words\n",
        "    df[['scaled_price','scaled_num_words']] = pd.DataFrame(SSscaler.fit_transform(df[['price','num_words']]))\n",
        "\n",
        "    \n",
        "    # dropping the unscaled price and number of words\n",
        "    df = df.drop('price', 1)\n",
        "    df = df.drop('num_words', 1)\n",
        "\n",
        "    # #shuffle dataframe\n",
        "    df = df.sample(frac=1)\n",
        "\n",
        "    return df"
      ],
      "execution_count": 24,
      "outputs": []
    },
    {
      "cell_type": "code",
      "metadata": {
        "id": "mswQdnEUBmHe"
      },
      "source": [
        "df = pre_processing(pd.read_csv('/content/drive/MyDrive/Colab Notebooks/NLPSandBox/winereviews.csv', encoding='ISO-8859-1'))"
      ],
      "execution_count": 25,
      "outputs": []
    },
    {
      "cell_type": "code",
      "metadata": {
        "id": "EBU5En67BmHg"
      },
      "source": [
        "y = df['y']\n",
        "X = df.drop('y', axis=1)"
      ],
      "execution_count": 26,
      "outputs": []
    },
    {
      "cell_type": "code",
      "metadata": {
        "id": "ZMHh5_pZBmHh"
      },
      "source": [
        "# split up the data\n",
        "X_train, X_test, y_train, y_test = train_test_split(X, y, test_size=0.12)"
      ],
      "execution_count": 27,
      "outputs": []
    },
    {
      "cell_type": "code",
      "metadata": {
        "id": "ex3m_Mw5ex93"
      },
      "source": [
        "X_train.head();\n",
        "description_train = X_train['description']\n",
        "description_test = X_test['description']\n",
        "\n",
        "#subsetting the numeric variables\n",
        "numeric_train = X_train[['scaled_price','scaled_num_words']].to_numpy()\n",
        "numeric_test = X_test[['scaled_price','scaled_num_words']].to_numpy()"
      ],
      "execution_count": 28,
      "outputs": []
    },
    {
      "cell_type": "code",
      "metadata": {
        "id": "0ygGNTr0BmHi"
      },
      "source": [
        "MAX_VOCAB_SIZE = 60000\n",
        "tokenizer = Tokenizer(num_words=MAX_VOCAB_SIZE)\n",
        "tokenizer.fit_on_texts(description_train)\n",
        "sequences_train = tokenizer.texts_to_sequences(description_train)\n",
        "sequences_test = tokenizer.texts_to_sequences(description_test)"
      ],
      "execution_count": 29,
      "outputs": []
    },
    {
      "cell_type": "code",
      "metadata": {
        "id": "Ht_YtsFVBmHj",
        "colab": {
          "base_uri": "https://localhost:8080/"
        },
        "outputId": "e7a31097-dac2-424c-c9ae-044da931f458"
      },
      "source": [
        "word2idx = tokenizer.word_index\n",
        "V = len(word2idx)\n",
        "print('Found %s unique tokens.' % V)"
      ],
      "execution_count": 30,
      "outputs": [
        {
          "output_type": "stream",
          "name": "stdout",
          "text": [
            "Found 34308 unique tokens.\n"
          ]
        }
      ]
    },
    {
      "cell_type": "code",
      "metadata": {
        "id": "K21AGjGIk-e1",
        "colab": {
          "base_uri": "https://localhost:8080/"
        },
        "outputId": "d81814ce-4711-47bd-f52e-c6459e24e6e7"
      },
      "source": [
        "nlp_train = pad_sequences(sequences_train)\n",
        "print('Shape of data train tensor:', nlp_train.shape)\n",
        "\n",
        "# get sequence length\n",
        "T = nlp_train.shape[1]\n",
        "\n",
        "# next I need now the true data train with the additional features\n"
      ],
      "execution_count": 31,
      "outputs": [
        {
          "output_type": "stream",
          "name": "stdout",
          "text": [
            "Shape of data train tensor: (120762, 136)\n"
          ]
        }
      ]
    },
    {
      "cell_type": "code",
      "metadata": {
        "id": "iqna_P7lk_UZ",
        "colab": {
          "base_uri": "https://localhost:8080/"
        },
        "outputId": "635f933a-73d5-4bb1-8c37-2c6b7f64d4ff"
      },
      "source": [
        "nlp_test = pad_sequences(sequences_test, maxlen=T)\n",
        "print('Shape of data test tensor:', nlp_test.shape)"
      ],
      "execution_count": 32,
      "outputs": [
        {
          "output_type": "stream",
          "name": "stdout",
          "text": [
            "Shape of data test tensor: (16468, 136)\n"
          ]
        }
      ]
    },
    {
      "cell_type": "code",
      "metadata": {
        "id": "G61XTf-EbOIF"
      },
      "source": [
        "\n",
        "\n",
        "# We get to choose embedding dimensionality\n",
        "D = 70\n",
        "\n",
        "# Hidden state dimensionality\n",
        "M = 40\n",
        "\n",
        "\n",
        "nlp_input = Input(shape=(T,),name= 'nlp_input')\n",
        "meta_input = Input(shape=(2,), name='meta_input')\n",
        "emb = Embedding(V + 1, D)(nlp_input)\n",
        "emb = Bidirectional(LSTM(32, return_sequences=True))(emb)\n",
        "emb = Dropout(0.75)(emb)\n",
        "emb = Bidirectional(LSTM(64, return_sequences=True))(emb)\n",
        "emb = Dropout(0.75)(emb)\n",
        "emb = Bidirectional(LSTM(128))(emb)\n",
        "nlp_out = Dropout(0.80)(emb)\n",
        "x = tf.concat([nlp_out, meta_input], 1)\n",
        "x = Dense(32, activation='swish')(x)\n",
        "x = Dropout(0.70)(x)\n",
        "x = Dense(64, activation='swish')(x)\n",
        "x = Dropout(0.75)(x)\n",
        "x = Dense(128, activation='swish')(x)\n",
        "x = Dropout(0.90)(x)\n",
        "x = Dense(1, activation='sigmoid')(x)\n",
        "\n",
        "model = Model(inputs=[nlp_input, meta_input], outputs=[x])\n"
      ],
      "execution_count": 33,
      "outputs": []
    },
    {
      "cell_type": "code",
      "metadata": {
        "id": "K8vMhICSkf3h"
      },
      "source": [
        "class myCallback(tf.keras.callbacks.Callback):\n",
        "  def on_epoch_end(self, epoch, logs={}):\n",
        "    if((logs.get('val_accuracy')>=0.9400) and (logs.get('val_precision')>=0.8300)):\n",
        "      print(\"\\n╰( ͡° ͜ʖ ͡° )つ──☆ Reached 94% accuracy, 83% precision,so cancelling training!\")\n",
        "      self.model.stop_training = True"
      ],
      "execution_count": 34,
      "outputs": []
    },
    {
      "cell_type": "code",
      "metadata": {
        "id": "iz915Bkmkupp"
      },
      "source": [
        "mycallback = myCallback()\n"
      ],
      "execution_count": 35,
      "outputs": []
    },
    {
      "cell_type": "code",
      "metadata": {
        "id": "2iJfr4tAZ2ab",
        "colab": {
          "base_uri": "https://localhost:8080/"
        },
        "outputId": "f8c7bad8-aff6-48f8-9755-76b662302622"
      },
      "source": [
        "# Compile and fit\n",
        "model.compile(\n",
        "  loss='binary_crossentropy',\n",
        "  #optimizer=optimizer1,\n",
        "  optimizer='adam',\n",
        "  metrics=['accuracy', precision]\n",
        ")\n",
        "\n",
        "\n",
        "print('Training model...')\n",
        "r = model.fit(\n",
        "  [nlp_train, numeric_train],\n",
        "  y_train,\n",
        "  epochs=10, #changing this to one to just prove it works with the new features\n",
        "  validation_data=([nlp_test, numeric_test], y_test),\n",
        "  callbacks=[mycallback])\n"
      ],
      "execution_count": 36,
      "outputs": [
        {
          "output_type": "stream",
          "name": "stdout",
          "text": [
            "Training model...\n",
            "Epoch 1/10\n",
            "3774/3774 [==============================] - 161s 40ms/step - loss: 0.2475 - accuracy: 0.8995 - precision: 0.6943 - val_loss: 0.1747 - val_accuracy: 0.9234 - val_precision: 0.6908\n",
            "Epoch 2/10\n",
            "3774/3774 [==============================] - 151s 40ms/step - loss: 0.1844 - accuracy: 0.9254 - precision: 0.7748 - val_loss: 0.1583 - val_accuracy: 0.9342 - val_precision: 0.8152\n",
            "Epoch 3/10\n",
            "3774/3774 [==============================] - 151s 40ms/step - loss: 0.1486 - accuracy: 0.9447 - precision: 0.8318 - val_loss: 0.1572 - val_accuracy: 0.9391 - val_precision: 0.7676\n",
            "Epoch 4/10\n",
            "3774/3774 [==============================] - 151s 40ms/step - loss: 0.1219 - accuracy: 0.9559 - precision: 0.8652 - val_loss: 0.1695 - val_accuracy: 0.9393 - val_precision: 0.7491\n",
            "Epoch 5/10\n",
            "3774/3774 [==============================] - 151s 40ms/step - loss: 0.0988 - accuracy: 0.9650 - precision: 0.8936 - val_loss: 0.1662 - val_accuracy: 0.9459 - val_precision: 0.7882\n",
            "Epoch 6/10\n",
            "3774/3774 [==============================] - 152s 40ms/step - loss: 0.0809 - accuracy: 0.9727 - precision: 0.9183 - val_loss: 0.2471 - val_accuracy: 0.9494 - val_precision: 0.8263\n",
            "Epoch 7/10\n",
            "3774/3774 [==============================] - 152s 40ms/step - loss: 0.0706 - accuracy: 0.9777 - precision: 0.9319 - val_loss: 0.2397 - val_accuracy: 0.9492 - val_precision: 0.8279\n",
            "Epoch 8/10\n",
            "3774/3774 [==============================] - ETA: 0s - loss: 0.0593 - accuracy: 0.9817 - precision: 0.9422\n",
            "╰( ͡° ͜ʖ ͡° )つ──☆ Reached 94% accuracy, 83% precision,so cancelling training!\n",
            "3774/3774 [==============================] - 152s 40ms/step - loss: 0.0593 - accuracy: 0.9817 - precision: 0.9422 - val_loss: 0.6226 - val_accuracy: 0.9477 - val_precision: 0.9053\n"
          ]
        }
      ]
    },
    {
      "cell_type": "code",
      "metadata": {
        "id": "kqwPTuPBab-E",
        "colab": {
          "base_uri": "https://localhost:8080/",
          "height": 282
        },
        "outputId": "1962cbda-c1e3-4f2d-91b5-fe5695a2ccea"
      },
      "source": [
        "# Plot loss per iteration\n",
        "import matplotlib.pyplot as plt\n",
        "plt.plot(r.history['loss'], label='Training Loss')\n",
        "plt.plot(r.history['val_loss'], label='Validation Loss')\n",
        "plt.legend()"
      ],
      "execution_count": 37,
      "outputs": [
        {
          "output_type": "execute_result",
          "data": {
            "text/plain": [
              "<matplotlib.legend.Legend at 0x7fb4443c9810>"
            ]
          },
          "metadata": {},
          "execution_count": 37
        },
        {
          "output_type": "display_data",
          "data": {
            "image/png": "[encoded data removed]",
            "text/plain": [
              "<Figure size 432x288 with 1 Axes>"
            ]
          },
          "metadata": {
            "needs_background": "light"
          }
        }
      ]
    },
    {
      "cell_type": "code",
      "metadata": {
        "id": "YWA-ud7kalBz",
        "colab": {
          "base_uri": "https://localhost:8080/",
          "height": 282
        },
        "outputId": "55190a11-8fec-4630-bdf1-3d8f18ac7b00"
      },
      "source": [
        "# Plot accuracy per iteration\n",
        "plt.plot(r.history['accuracy'], label='Training Accuracy')\n",
        "plt.plot(r.history['val_accuracy'], label='Validation Accuracy')\n",
        "plt.legend()"
      ],
      "execution_count": 38,
      "outputs": [
        {
          "output_type": "execute_result",
          "data": {
            "text/plain": [
              "<matplotlib.legend.Legend at 0x7fb444270e10>"
            ]
          },
          "metadata": {},
          "execution_count": 38
        },
        {
          "output_type": "display_data",
          "data": {
            "image/png": "[encoded data removed]",
            "text/plain": [
              "<Figure size 432x288 with 1 Axes>"
            ]
          },
          "metadata": {
            "needs_background": "light"
          }
        }
      ]
    },
    {
      "cell_type": "code",
      "metadata": {
        "id": "tLxNyQTcf8C8"
      },
      "source": [
        "tf.keras.backend.clear_session()"
      ],
      "execution_count": 39,
      "outputs": []
    }
  ]
}