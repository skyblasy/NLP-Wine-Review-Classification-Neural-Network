{
 "cells": [
  {
   "cell_type": "code",
   "execution_count": null,
   "metadata": {
    "id": "uL9_uznNF8Fx"
   },
   "outputs": [],
   "source": [
    "import tensorflow as tf\n",
    "print(tf.__version__)"
   ]
  },
  {
   "cell_type": "code",
   "execution_count": null,
   "metadata": {
    "id": "Yc6zY-HTGG5h"
   },
   "outputs": [],
   "source": [
    "rom google.colab import drive\n",
    "drive.mount('/content/drive')"
   ]
  },
  {
   "cell_type": "code",
   "execution_count": null,
   "metadata": {
    "id": "-7qARjcQGJu3"
   },
   "outputs": [],
   "source": [
    "import numpy as np\n",
    "import pandas as pd\n",
    "import matplotlib.pyplot as plt\n",
    "from sklearn.model_selection import train_test_split\n",
    "\n",
    "from tensorflow.keras.preprocessing.text import Tokenizer\n",
    "from tensorflow.keras.preprocessing.sequence import pad_sequences\n",
    "from tensorflow.keras.layers import Dense, Input, GlobalAveragePooling1D, LSTM, Bidirectional\n",
    "from tensorflow.keras.layers import Conv1D, MaxPooling1D, Embedding, Dropout\n",
    "from tensorflow.keras.models import Model\n",
    "from tensorflow.keras.metrics import Precision\n",
    "from tensorflow.keras.optimizers import RMSprop\n"
   ]
  },
  {
   "cell_type": "code",
   "execution_count": null,
   "metadata": {
    "id": "EY7zLz6dHGnc"
   },
   "outputs": [],
   "source": [
    "class myCallback(tf.keras.callbacks.Callback):\n",
    "  def on_epoch_end(self, epoch, logs={}):\n",
    "    if((logs.get('val_accuracy')>=0.9100) and (logs.get('val_precision')>=0.8000)):\n",
    "      print(\"\\nReached 91% accuracy, 80% precision,so cancelling training!\")\n",
    "      self.model.stop_training = True"
   ]
  },
  {
   "cell_type": "code",
   "execution_count": null,
   "metadata": {
    "id": "GjFgTfeYHHk8"
   },
   "outputs": [],
   "source": [
    "mycallback = myCallback()\n",
    "precision = Precision()"
   ]
  },
  {
   "cell_type": "code",
   "execution_count": null,
   "metadata": {
    "id": "0q-p_1-XGPAt"
   },
   "outputs": [],
   "source": [
    "# define a function that accepts a DataFrame and adds new features\n",
    "def pre_processing(df):\n",
    "    \n",
    "    # Subsetting the data\n",
    "    df = df.loc[:,['description','points']]\n",
    "    \n",
    "    # Creating a new y target that is a diochotomous variable\n",
    "    df['y'] = pd.cut(df.points, bins=[79,91.25,101], labels=False)\n",
    "    \n",
    "    # dropping the points variable\n",
    "    df.drop(['points'], axis = 1, inplace=True)\n",
    "    \n",
    "    # string representation of the ingredient list\n",
    "    df['description'] = df.description.astype('str')\n",
    "    \n",
    "    return df\n",
    "    "
   ]
  },
  {
   "cell_type": "code",
   "execution_count": null,
   "metadata": {
    "id": "r6OUvXPFGSU6"
   },
   "outputs": [],
   "source": [
    "df = pre_processing(pd.read_csv('/content/drive/MyDrive/Colab Notebooks/NLPSandBox/winereviews.csv', encoding='ISO-8859-1'))"
   ]
  },
  {
   "cell_type": "code",
   "execution_count": null,
   "metadata": {
    "id": "FGRRn6j4GWpI"
   },
   "outputs": [],
   "source": [
    "    arr = np.arange(len(df))\n",
    "    out = np.random.permutation(arr) # random shuffle\n",
    "    df = df.loc[out]"
   ]
  },
  {
   "cell_type": "code",
   "execution_count": null,
   "metadata": {
    "id": "zLfq2saxGakD"
   },
   "outputs": [],
   "source": [
    "y = df['y']\n",
    "X = df['description']"
   ]
  },
  {
   "cell_type": "code",
   "execution_count": null,
   "metadata": {
    "id": "A-H0lO0-GfXs"
   },
   "outputs": [],
   "source": [
    "# split up the data\n",
    "X_train, X_test, y_train, y_test = train_test_split(X, y, test_size=0.33)"
   ]
  },
  {
   "cell_type": "code",
   "execution_count": null,
   "metadata": {
    "id": "CQf8jeoEGijP"
   },
   "outputs": [],
   "source": [
    "MAX_VOCAB_SIZE = 60000\n",
    "tokenizer = Tokenizer(num_words=MAX_VOCAB_SIZE)\n",
    "tokenizer.fit_on_texts(X_train)\n",
    "sequences_train = tokenizer.texts_to_sequences(X_train)\n",
    "sequences_test = tokenizer.texts_to_sequences(X_test)"
   ]
  },
  {
   "cell_type": "code",
   "execution_count": null,
   "metadata": {
    "id": "04f4_GuUGqc6"
   },
   "outputs": [],
   "source": [
    "word2idx = tokenizer.word_index\n",
    "V = len(word2idx)\n",
    "print('Found %s unique tokens.' % V)"
   ]
  },
  {
   "cell_type": "code",
   "execution_count": null,
   "metadata": {
    "id": "S-zXNr1VGvOj"
   },
   "outputs": [],
   "source": [
    "data_train = pad_sequences(sequences_train)\n",
    "print('Shape of data train tensor:', data_train.shape)\n",
    "\n",
    "# get sequence length\n",
    "T = data_train.shape[1]"
   ]
  },
  {
   "cell_type": "code",
   "execution_count": null,
   "metadata": {
    "id": "YoJ7Ewd0G0mE"
   },
   "outputs": [],
   "source": [
    "data_test = pad_sequences(sequences_test, maxlen=T)\n",
    "print('Shape of data test tensor:', data_test.shape)"
   ]
  },
  {
   "cell_type": "code",
   "execution_count": null,
   "metadata": {
    "id": "Kunvpi9oG1pp"
   },
   "outputs": [],
   "source": [
    "\n",
    "# We get to choose embedding dimensionality\n",
    "D = 20\n",
    "\n",
    "\n",
    "i = Input(shape=(T,))\n",
    "x = Embedding(V + 1, D)(i)\n",
    "x = Bidirectional(LSTM(64, return_sequences=True))(x)\n",
    "x = Dropout(0.40)(x)\n",
    "x = Bidirectional(LSTM(128))(x)\n",
    "x = Dropout(0.40)(x)\n",
    "x = Dense(64, activation='swish')(x)\n",
    "x = Dropout(0.40)(x)\n",
    "x = Dense(1, activation='sigmoid')(x)\n",
    "\n",
    "model = Model(i, x)\n"
   ]
  },
  {
   "cell_type": "code",
   "execution_count": null,
   "metadata": {
    "id": "qP5qXkebHApq"
   },
   "outputs": [],
   "source": [
    "# Compile and fit\n",
    "model.compile(\n",
    "  loss='binary_crossentropy',\n",
    "  optimizer='adam',\n",
    "  metrics=['accuracy', precision]\n",
    ")\n",
    "\n",
    "\n",
    "print('Training model...')\n",
    "r = model.fit(\n",
    "  data_train,\n",
    "  y_train,\n",
    "  epochs=5,\n",
    "  validation_data=(data_test, y_test),\n",
    "  callbacks=[mycallback])"
   ]
  }
 ],
 "metadata": {
  "colab": {
   "name": "WineReviewsClassification.ipynb",
   "provenance": []
  },
  "kernelspec": {
   "display_name": "Python 3",
   "language": "python",
   "name": "python3"
  },
  "language_info": {
   "codemirror_mode": {
    "name": "ipython",
    "version": 3
   },
   "file_extension": ".py",
   "mimetype": "text/x-python",
   "name": "python",
   "nbconvert_exporter": "python",
   "pygments_lexer": "ipython3",
   "version": "3.8.5"
  }
 },
 "nbformat": 4,
 "nbformat_minor": 1
}
